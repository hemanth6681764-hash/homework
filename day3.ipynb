{
 "cells": [
  {
   "cell_type": "markdown",
   "id": "ae84c4c8",
   "metadata": {},
   "source": [
    " 1. What is the output of "
   ]
  },
  {
   "cell_type": "code",
   "execution_count": 15,
   "id": "a92e17e0",
   "metadata": {},
   "outputs": [
    {
     "name": "stdout",
     "output_type": "stream",
     "text": [
      "512\n"
     ]
    }
   ],
   "source": [
    "# 1. What is the output of  \n",
    "print (2 ** 3 ** 2)"
   ]
  },
  {
   "cell_type": "code",
   "execution_count": null,
   "id": "e188aecc",
   "metadata": {},
   "outputs": [],
   "source": [
    "print (2 ** 3 ** 2)"
   ]
  },
  {
   "cell_type": "markdown",
   "id": "36da57cd",
   "metadata": {},
   "source": [
    "\n",
    "2. What is the output of  \n",
    "print (2 * 3 ** 3 * 4) "
   ]
  },
  {
   "cell_type": "code",
   "execution_count": 14,
   "id": "0f405f14",
   "metadata": {},
   "outputs": [
    {
     "name": "stdout",
     "output_type": "stream",
     "text": [
      "216\n"
     ]
    }
   ],
   "source": [
    "print (2 * 3 ** 3 * 4)"
   ]
  },
  {
   "cell_type": "markdown",
   "id": "3b6c6512",
   "metadata": {},
   "source": [
    "\n",
    "3. What is the output of  \n",
    "print (10 - 4 * 2)"
   ]
  },
  {
   "cell_type": "code",
   "execution_count": 13,
   "id": "66aeacfd",
   "metadata": {},
   "outputs": [
    {
     "name": "stdout",
     "output_type": "stream",
     "text": [
      "2\n"
     ]
    }
   ],
   "source": [
    "print (10 - 4 * 2)"
   ]
  },
  {
   "cell_type": "markdown",
   "id": "f251bc10",
   "metadata": {},
   "source": [
    " 4. What is the output of the expression  \n",
    "print (-18 // 4)"
   ]
  },
  {
   "cell_type": "code",
   "execution_count": 12,
   "id": "b3eabfc3",
   "metadata": {},
   "outputs": [
    {
     "name": "stdout",
     "output_type": "stream",
     "text": [
      "-5\n"
     ]
    }
   ],
   "source": [
    "print (-18 // 4)"
   ]
  },
  {
   "cell_type": "markdown",
   "id": "fef3cbfe",
   "metadata": {},
   "source": [
    "5. What is the output of  \n",
    "print (2%6) \n"
   ]
  },
  {
   "cell_type": "code",
   "execution_count": 11,
   "id": "3063f3d7",
   "metadata": {},
   "outputs": [
    {
     "name": "stdout",
     "output_type": "stream",
     "text": [
      "2\n"
     ]
    }
   ],
   "source": [
    "print(2%6)"
   ]
  },
  {
   "cell_type": "markdown",
   "id": "20ea0de3",
   "metadata": {},
   "source": [
    "6. What is the output of the following code \n",
    "x = 100  \n",
    "y = 50  \n",
    "print(x and y) \n",
    "print(x or y)"
   ]
  },
  {
   "cell_type": "code",
   "execution_count": 10,
   "id": "985f56fb",
   "metadata": {},
   "outputs": [
    {
     "name": "stdout",
     "output_type": "stream",
     "text": [
      "50\n",
      "100\n"
     ]
    }
   ],
   "source": [
    "x = 100  \n",
    "y = 50  \n",
    "print(x and y) \n",
    "print(x or y)"
   ]
  },
  {
   "cell_type": "markdown",
   "id": "ed5ab892",
   "metadata": {},
   "source": [
    " 7. What is the value of the following Python Expression  \n",
    "print(36 / 4)"
   ]
  },
  {
   "cell_type": "code",
   "execution_count": 9,
   "id": "5d82bddf",
   "metadata": {},
   "outputs": [
    {
     "name": "stdout",
     "output_type": "stream",
     "text": [
      "9.0\n"
     ]
    }
   ],
   "source": [
    "print(36 / 4)"
   ]
  },
  {
   "cell_type": "markdown",
   "id": "eb9a3eb3",
   "metadata": {},
   "source": [
    "\n",
    "8. What is the output of the following code? \n",
    "\"\"\"var1 = 1  \n",
    "var2 = 2  \n",
    "var3 = \"3\"  \n",
    "print (var1 + var2 + var3)\"\"\""
   ]
  },
  {
   "cell_type": "code",
   "execution_count": 8,
   "id": "a446c578",
   "metadata": {},
   "outputs": [
    {
     "ename": "TypeError",
     "evalue": "unsupported operand type(s) for +: 'int' and 'str'",
     "output_type": "error",
     "traceback": [
      "\u001b[31m---------------------------------------------------------------------------\u001b[39m",
      "\u001b[31mTypeError\u001b[39m                                 Traceback (most recent call last)",
      "\u001b[36mCell\u001b[39m\u001b[36m \u001b[39m\u001b[32mIn[8]\u001b[39m\u001b[32m, line 4\u001b[39m\n\u001b[32m      2\u001b[39m var2 = \u001b[32m2\u001b[39m  \n\u001b[32m      3\u001b[39m var3 = \u001b[33m\"\u001b[39m\u001b[33m3\u001b[39m\u001b[33m\"\u001b[39m  \n\u001b[32m----> \u001b[39m\u001b[32m4\u001b[39m \u001b[38;5;28mprint\u001b[39m (\u001b[43mvar1\u001b[49m\u001b[43m \u001b[49m\u001b[43m+\u001b[49m\u001b[43m \u001b[49m\u001b[43mvar2\u001b[49m\u001b[43m \u001b[49m\u001b[43m+\u001b[49m\u001b[43m \u001b[49m\u001b[43mvar3\u001b[49m)\n",
      "\u001b[31mTypeError\u001b[39m: unsupported operand type(s) for +: 'int' and 'str'"
     ]
    }
   ],
   "source": [
    "var1 = 1  \n",
    "var2 = 2  \n",
    "var3 = \"3\"  \n",
    "print (var1 + var2 + var3)"
   ]
  },
  {
   "cell_type": "markdown",
   "id": "0517fbab",
   "metadata": {},
   "source": [
    "\n",
    "9. What is the output of the following code? \n",
    "p, q, r = 10, 20 ,30  \n",
    "print(p, q, r)"
   ]
  },
  {
   "cell_type": "code",
   "execution_count": 7,
   "id": "910b0214",
   "metadata": {},
   "outputs": [
    {
     "name": "stdout",
     "output_type": "stream",
     "text": [
      "10 20 30\n"
     ]
    }
   ],
   "source": [
    "p, q, r = 10, 20 ,30  \n",
    "print(p, q, r)"
   ]
  },
  {
   "cell_type": "markdown",
   "id": "692dcd1f",
   "metadata": {},
   "source": [
    "10. What is the output of the following code? \n",
    "valueOne = 5 ** 2  \n",
    "valueTwo = 5 ** 3  \n",
    "print(valueOne) \n",
    "print(valueTwo)"
   ]
  },
  {
   "cell_type": "code",
   "execution_count": 6,
   "id": "524c9f04",
   "metadata": {},
   "outputs": [
    {
     "name": "stdout",
     "output_type": "stream",
     "text": [
      "25\n",
      "125\n"
     ]
    }
   ],
   "source": [
    "valueOne = 5 ** 2  \n",
    "valueTwo = 5 ** 3  \n",
    "print(valueOne) \n",
    "print(valueTwo)"
   ]
  },
  {
   "cell_type": "markdown",
   "id": "e38ceb5a",
   "metadata": {},
   "source": [
    "11. What is the output of the following code? \n",
    "var = \"James\" * 2 * 3  \n",
    "print(var)\n"
   ]
  },
  {
   "cell_type": "code",
   "execution_count": 5,
   "id": "5a7e320d",
   "metadata": {},
   "outputs": [
    {
     "name": "stdout",
     "output_type": "stream",
     "text": [
      "JamesJamesJamesJamesJamesJames\n"
     ]
    }
   ],
   "source": [
    "var = \"James\" * 2 * 3  \n",
    "print(var)"
   ]
  },
  {
   "cell_type": "markdown",
   "id": "8d1f2860",
   "metadata": {},
   "source": [
    "12. What is the output of the following \n",
    "x = 36 / 4 * (3 + 2) * 4 + 2  \n"
   ]
  },
  {
   "cell_type": "code",
   "execution_count": 4,
   "id": "53a8e449",
   "metadata": {},
   "outputs": [
    {
     "name": "stdout",
     "output_type": "stream",
     "text": [
      "182.0\n"
     ]
    }
   ],
   "source": [
    "x = 36 / 4 * (3 + 2) * 4 + 2  \n",
    "print(x)"
   ]
  },
  {
   "cell_type": "markdown",
   "id": "4e48baf2",
   "metadata": {},
   "source": [
    " 13. What is the data type of  \n",
    " print(type (10))"
   ]
  },
  {
   "cell_type": "code",
   "execution_count": 3,
   "id": "93596a5b",
   "metadata": {},
   "outputs": [
    {
     "name": "stdout",
     "output_type": "stream",
     "text": [
      "<class 'int'>\n"
     ]
    }
   ],
   "source": [
    "print(type (10))"
   ]
  },
  {
   "cell_type": "markdown",
   "id": "6ec11bd7",
   "metadata": {},
   "source": [
    "14. Creating an int variable, float variable, string variable and assign the  \n",
    "values to the above three variable names"
   ]
  },
  {
   "cell_type": "code",
   "execution_count": 2,
   "id": "e1301e75",
   "metadata": {},
   "outputs": [
    {
     "name": "stdout",
     "output_type": "stream",
     "text": [
      "10 int\n",
      "10.0 <class 'float'>\n",
      "10 <class 'str'>\n"
     ]
    }
   ],
   "source": [
    "num1 =10\n",
    "num2 =10.0\n",
    "string1= \"10\"\n",
    "print(num1,type(num1).__name__)\n",
    "print(num2,type(num2))\n",
    "print(string1,type(string1))"
   ]
  },
  {
   "cell_type": "markdown",
   "id": "18dad305",
   "metadata": {},
   "source": [
    "\n",
    "15.  Create Integer number \n",
    "\n",
    "- Roll number is: 33  \n",
    "- <class 'int'>  \n",
    "- 25  \n",
    "- <class 'int'> \n"
   ]
  },
  {
   "cell_type": "code",
   "execution_count": 1,
   "id": "9723a7ac",
   "metadata": {},
   "outputs": [
    {
     "name": "stdout",
     "output_type": "stream",
     "text": [
      "Roll number is: 33\n",
      "<class 'int'>\n"
     ]
    }
   ],
   "source": [
    "Roll_number = 33\n",
    "print(\"Roll number is:\",Roll_number)\n",
    "print(type(Roll_number))"
   ]
  },
  {
   "cell_type": "code",
   "execution_count": null,
   "id": "a0d80ace",
   "metadata": {},
   "outputs": [],
   "source": []
  }
 ],
 "metadata": {
  "kernelspec": {
   "display_name": "Python 3",
   "language": "python",
   "name": "python3"
  },
  "language_info": {
   "codemirror_mode": {
    "name": "ipython",
    "version": 3
   },
   "file_extension": ".py",
   "mimetype": "text/x-python",
   "name": "python",
   "nbconvert_exporter": "python",
   "pygments_lexer": "ipython3",
   "version": "3.13.4"
  }
 },
 "nbformat": 4,
 "nbformat_minor": 5
}
