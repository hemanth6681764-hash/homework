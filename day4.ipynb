{
 "cells": [
  {
   "cell_type": "markdown",
   "id": "5dfcf0b1",
   "metadata": {},
   "source": [
    "1. Type here. Assign a number to the variable: glass_of_water \n",
    "glass_of_water= \n",
    "print(\"I drank\", glass_of_water, \"glasses of water today.\") \n"
   ]
  },
  {
   "cell_type": "code",
   "execution_count": 1,
   "id": "b6b066c5",
   "metadata": {},
   "outputs": [
    {
     "name": "stdout",
     "output_type": "stream",
     "text": [
      "I drank 8 glasses of water today.\n"
     ]
    }
   ],
   "source": [
    "glass_of_water= 8\n",
    "print(\"I drank\", glass_of_water, \"glasses of water today.\")"
   ]
  },
  {
   "cell_type": "markdown",
   "id": "8aba991f",
   "metadata": {},
   "source": [
    "2. Fill the print function so it prints glass_of_water  \n",
    "glass_of_water=3  \n",
    "glass_of_water=glass_of_water + 1  \n",
    "print()"
   ]
  },
  {
   "cell_type": "code",
   "execution_count": 2,
   "id": "4de60168",
   "metadata": {},
   "outputs": [
    {
     "name": "stdout",
     "output_type": "stream",
     "text": [
      "4\n"
     ]
    }
   ],
   "source": [
    "glass_of_water=3  \n",
    "glass_of_water=glass_of_water + 1  \n",
    "print(glass_of_water) "
   ]
  },
  {
   "cell_type": "markdown",
   "id": "9010f7ea",
   "metadata": {},
   "source": [
    "3. Assign an integer to the variable, then print it.  \n",
    "men_stepped_on_the_moon=  \n",
    "print() \n"
   ]
  },
  {
   "cell_type": "code",
   "execution_count": 3,
   "id": "c47b8283",
   "metadata": {},
   "outputs": [
    {
     "name": "stdout",
     "output_type": "stream",
     "text": [
      "1\n"
     ]
    }
   ],
   "source": [
    "men_stepped_on_the_moon=1 \n",
    "print(men_stepped_on_the_moon)"
   ]
  },
  {
   "cell_type": "markdown",
   "id": "144312f5",
   "metadata": {},
   "source": [
    "4. Type a couple of words or a short sentence for your variable, then print \n",
    "it.  \n",
    "my_reason_for_coding=  \n",
    "print()"
   ]
  },
  {
   "cell_type": "code",
   "execution_count": 4,
   "id": "3a988500",
   "metadata": {},
   "outputs": [
    {
     "name": "stdout",
     "output_type": "stream",
     "text": [
      "To learn for data science\n"
     ]
    }
   ],
   "source": [
    "my_reason_for_coding=\"To learn for data science\"  \n",
    "print(my_reason_for_coding)"
   ]
  },
  {
   "cell_type": "markdown",
   "id": "b290fcbc",
   "metadata": {},
   "source": [
    "5. Assign a float with 2 decimals to the variable below. If you don't wan't to \n",
    "search the value you can check out Hint 1.  \n",
    "global_mean_sea_level_2018=21  \n",
    "global_mean_sea_level_2018=  \n",
    "print(global_mean_sea_level_2018) "
   ]
  },
  {
   "cell_type": "code",
   "execution_count": 7,
   "id": "844fa79b",
   "metadata": {},
   "outputs": [
    {
     "name": "stdout",
     "output_type": "stream",
     "text": [
      "21.01\n"
     ]
    }
   ],
   "source": [
    "global_mean_sea_level_2018=21  \n",
    "global_mean_sea_level_2018=21.01\n",
    "print(global_mean_sea_level_2018) "
   ]
  },
  {
   "cell_type": "markdown",
   "id": "3733906a",
   "metadata": {},
   "source": [
    "6. Assign True or False to the variable below then print it.  \n",
    "staying_alive=  \n",
    "print(staying_alive)"
   ]
  },
  {
   "cell_type": "code",
   "execution_count": 10,
   "id": "91350b15",
   "metadata": {},
   "outputs": [
    {
     "name": "stdout",
     "output_type": "stream",
     "text": [
      "True\n"
     ]
    }
   ],
   "source": [
    "staying_alive=  True or False\n",
    "print(staying_alive) "
   ]
  },
  {
   "cell_type": "markdown",
   "id": "8f019eab",
   "metadata": {},
   "source": [
    "7. Type a couple of different values inside the print function. Make sure \n",
    "they are separated by commas.  \n",
    "print(\"\")"
   ]
  },
  {
   "cell_type": "code",
   "execution_count": 11,
   "id": "5f71782b",
   "metadata": {},
   "outputs": [
    {
     "name": "stdout",
     "output_type": "stream",
     "text": [
      "55,,80,8,85,5,64,4,897,6\n"
     ]
    }
   ],
   "source": [
    "print(\"55,,80,8,85,5,64,4,897,6\") "
   ]
  },
  {
   "cell_type": "markdown",
   "id": "3eeec270",
   "metadata": {},
   "source": [
    "8. You can assign \"Hello World!\" to the variable.  \n",
    "my_text=\"\" \n",
    "print(my_text)"
   ]
  },
  {
   "cell_type": "code",
   "execution_count": 12,
   "id": "82b49272",
   "metadata": {},
   "outputs": [
    {
     "name": "stdout",
     "output_type": "stream",
     "text": [
      "Hello World!\n"
     ]
    }
   ],
   "source": [
    "my_text=\"Hello World!\" \n",
    "print(my_text) "
   ]
  },
  {
   "cell_type": "markdown",
   "id": "23bccb52",
   "metadata": {},
   "source": [
    "9. Replace \"type here\" with \"Hello World!\"  \n",
    "print(\"type here\")"
   ]
  },
  {
   "cell_type": "code",
   "execution_count": 15,
   "id": "97ca9d1e",
   "metadata": {},
   "outputs": [
    {
     "name": "stdout",
     "output_type": "stream",
     "text": [
      "hello world\n"
     ]
    }
   ],
   "source": [
    "new=\"type here\"\n",
    "new_text=new.replace(\"type here\",\"hello world\")\n",
    "print(new_text)"
   ]
  },
  {
   "cell_type": "markdown",
   "id": "1172a791",
   "metadata": {},
   "source": [
    "10. In Python, a variable must be declared before it is assigned a value: \n",
    "A. True \n",
    "B. False"
   ]
  },
  {
   "cell_type": "code",
   "execution_count": 16,
   "id": "032d644e",
   "metadata": {},
   "outputs": [
    {
     "data": {
      "text/plain": [
       "True"
      ]
     },
     "execution_count": 16,
     "metadata": {},
     "output_type": "execute_result"
    }
   ],
   "source": [
    "True"
   ]
  },
  {
   "cell_type": "markdown",
   "id": "a7d48f9a",
   "metadata": {},
   "source": [
    "11. Which of the following statements assigns the value 100 to the variable x \n",
    "in Python: \n",
    "A. x := 100 \n",
    "B. let x = 100 \n",
    "C. x << 100 \n",
    "D. x = 100 \n",
    "E. x ← 100 "
   ]
  },
  {
   "cell_type": "code",
   "execution_count": 19,
   "id": "45701a06",
   "metadata": {},
   "outputs": [
    {
     "data": {
      "text/plain": [
       "100"
      ]
     },
     "execution_count": 19,
     "metadata": {},
     "output_type": "execute_result"
    }
   ],
   "source": [
    "x = 100 \n",
    "x"
   ]
  },
  {
   "cell_type": "markdown",
   "id": "1948f31e",
   "metadata": {},
   "source": [
    "12.  Which of the following are valid Python variable names: \n",
    "A. Age \n",
    "B. home_address \n",
    "C. ver1.3 \n",
    "D. return \n",
    "E. 4square \n",
    "F. route66 "
   ]
  },
  {
   "cell_type": "code",
   "execution_count": 23,
   "id": "817a4c9e",
   "metadata": {},
   "outputs": [
    {
     "data": {
      "text/plain": [
       "'A. Age \\nB. home_address\\nF. route66'"
      ]
     },
     "execution_count": 23,
     "metadata": {},
     "output_type": "execute_result"
    }
   ],
   "source": [
    "'''A. Age \n",
    "B. home_address\n",
    "F. route66'''"
   ]
  },
  {
   "cell_type": "markdown",
   "id": "ba4e0aa3",
   "metadata": {},
   "source": [
    "13. You are reading Python code, and these statements appear scattered in \n",
    "different locations throughout the code: \n",
    "employeenumber = 4398  \n",
    ".  \n",
    ".  \n",
    "EmployeeNumber = 4398  \n",
    ".  \n",
    ".  \n",
    "employeeNumber = 4398 \n",
    "A. These statements refer to different variables. \n",
    "B. These statements refer to the same variable. "
   ]
  },
  {
   "cell_type": "code",
   "execution_count": null,
   "id": "1fb6dbe6",
   "metadata": {},
   "outputs": [],
   "source": [
    "# A. These statements refer to different variables"
   ]
  },
  {
   "cell_type": "markdown",
   "id": "c4905259",
   "metadata": {},
   "source": [
    "14.  Which of the following would give a syntax error? \n",
    "A. x, y, z = 10, 20, 30 \n",
    "B. x, y, z = 10, ‘Hello’, True \n",
    "C. x = 10, y =’Hello’, z = True \n",
    "D. None of the above "
   ]
  },
  {
   "cell_type": "code",
   "execution_count": null,
   "id": "ab5ffcd8",
   "metadata": {},
   "outputs": [],
   "source": [
    "# C. x = 10, y ='Hello', z = True"
   ]
  },
  {
   "cell_type": "markdown",
   "id": "0dc11047",
   "metadata": {},
   "source": [
    "15. What is the value of the following arithmetic expression 5*2**10?"
   ]
  },
  {
   "cell_type": "code",
   "execution_count": 27,
   "id": "2f84d549",
   "metadata": {},
   "outputs": [
    {
     "name": "stdout",
     "output_type": "stream",
     "text": [
      "5120\n"
     ]
    }
   ],
   "source": [
    "print(5*2**10)"
   ]
  },
  {
   "cell_type": "code",
   "execution_count": null,
   "id": "f5534a62",
   "metadata": {},
   "outputs": [],
   "source": []
  }
 ],
 "metadata": {
  "kernelspec": {
   "display_name": "Python 3",
   "language": "python",
   "name": "python3"
  },
  "language_info": {
   "codemirror_mode": {
    "name": "ipython",
    "version": 3
   },
   "file_extension": ".py",
   "mimetype": "text/x-python",
   "name": "python",
   "nbconvert_exporter": "python",
   "pygments_lexer": "ipython3",
   "version": "3.13.4"
  }
 },
 "nbformat": 4,
 "nbformat_minor": 5
}
