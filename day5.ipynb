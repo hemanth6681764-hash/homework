{
 "cells": [
  {
   "cell_type": "markdown",
   "id": "2c49bdc3",
   "metadata": {},
   "source": [
    "1. Python Swapping means interchanging the values of two variables.  \n",
    "Eg: - if x is 10 and y is 5 then after swapping x will be 5 and y will be 10."
   ]
  },
  {
   "cell_type": "code",
   "execution_count": 2,
   "id": "2d458c20",
   "metadata": {},
   "outputs": [
    {
     "name": "stdout",
     "output_type": "stream",
     "text": [
      "x= 5\n",
      "y= 10\n"
     ]
    }
   ],
   "source": [
    "x =10\n",
    "y =5\n",
    "\n",
    "#swapping\n",
    "temp = x\n",
    "x =y\n",
    "y=temp\n",
    "\n",
    "print(\"x=\",x)\n",
    "print(\"y=\",y)\n"
   ]
  },
  {
   "cell_type": "markdown",
   "id": "27310426",
   "metadata": {},
   "source": [
    "2. Numbers consist of all the numeric values. Numbers in Python are \n",
    "classified into the following data types. \n",
    "❖ int - Integers don’t have decimal and can have any length as long as the \n",
    "required memory is available. For example, 3, 855, etc. \n",
    "❖ float - Floating point numbers are the ones having decimal. For example, \n",
    "2.564728. \n",
    "❖ complex - Complex numbers, as in Mathematics, have the form a + bj, \n",
    "where a is the real part and b is the imaginary part. For example, 2 + 3j, 6j."
   ]
  },
  {
   "cell_type": "code",
   "execution_count": 9,
   "id": "582ce6b0",
   "metadata": {},
   "outputs": [
    {
     "name": "stdout",
     "output_type": "stream",
     "text": [
      "<class 'complex'> <class 'complex'> <class 'complex'>\n",
      "<class 'int'> <class 'int'> <class 'int'>\n",
      "<class 'float'> <class 'float'> <class 'float'>\n"
     ]
    }
   ],
   "source": [
    "x=10\n",
    "y=56489\n",
    "z=-10\n",
    "\n",
    "a =8.88\n",
    "b =20.55\n",
    "c =-50.55\n",
    "\n",
    "p = 2 + 3j\n",
    "q = 6j\n",
    "r = 4 - 2j\n",
    "print(type(p), type(q), type(r))\n",
    "print(type(x),type(y),type(z))\n",
    "print(type(a),type(b),type(c))"
   ]
  },
  {
   "cell_type": "markdown",
   "id": "46ccaec0",
   "metadata": {},
   "source": [
    "3. What is the output of the following code? \n",
    "x = 6  \n",
    "y = 2 \n",
    "print(x ** y)  \n",
    "print(x // y) "
   ]
  },
  {
   "cell_type": "code",
   "execution_count": 10,
   "id": "0abecbfb",
   "metadata": {},
   "outputs": [
    {
     "name": "stdout",
     "output_type": "stream",
     "text": [
      "36\n",
      "3\n"
     ]
    }
   ],
   "source": [
    "x = 6  \n",
    "y = 2 \n",
    "print(x ** y)  \n",
    "print(x // y)"
   ]
  },
  {
   "cell_type": "markdown",
   "id": "821babc8",
   "metadata": {},
   "source": [
    "4. 4 is 100 in binary and 11 is 1011. What is the output of the following \n",
    "bitwise operators? \n",
    "a = 4  \n",
    "b = 11  \n",
    "print(a | b) print(a >> 2)"
   ]
  },
  {
   "cell_type": "code",
   "execution_count": 12,
   "id": "62230f9d",
   "metadata": {},
   "outputs": [
    {
     "name": "stdout",
     "output_type": "stream",
     "text": [
      "15\n",
      "1\n"
     ]
    }
   ],
   "source": [
    "a = 4  \n",
    "b = 11  \n",
    "print(a | b) \n",
    "print(a >> 2)"
   ]
  },
  {
   "cell_type": "markdown",
   "id": "3325832c",
   "metadata": {},
   "source": [
    "5. What is the output of the following assignment operator? \n",
    "y = 10  \n",
    "x = y += 2  \n",
    "print(x)"
   ]
  },
  {
   "cell_type": "code",
   "execution_count": 14,
   "id": "a3313b24",
   "metadata": {},
   "outputs": [
    {
     "name": "stdout",
     "output_type": "stream",
     "text": [
      "12\n"
     ]
    }
   ],
   "source": [
    "y = 10  \n",
    "x = y + 2  \n",
    "print(x) "
   ]
  },
  {
   "cell_type": "markdown",
   "id": "c72ef464",
   "metadata": {},
   "source": [
    ". What is the output of print(2 * 3 ** 3 * 4)?\n"
   ]
  },
  {
   "cell_type": "code",
   "execution_count": 15,
   "id": "4201f6bf",
   "metadata": {},
   "outputs": [
    {
     "name": "stdout",
     "output_type": "stream",
     "text": [
      "216\n"
     ]
    }
   ],
   "source": [
    "print(2 * 3 ** 3 * 4)"
   ]
  },
  {
   "cell_type": "markdown",
   "id": "3e31050c",
   "metadata": {},
   "source": [
    "7. What is the output of print(10 - 4 * 2)"
   ]
  },
  {
   "cell_type": "code",
   "execution_count": 16,
   "id": "4ee78f20",
   "metadata": {},
   "outputs": [
    {
     "name": "stdout",
     "output_type": "stream",
     "text": [
      "2\n"
     ]
    }
   ],
   "source": [
    "print(10 - 4 * 2)"
   ]
  },
  {
   "cell_type": "markdown",
   "id": "653b3b5e",
   "metadata": {},
   "source": [
    "8. What is the output of the expression print(-18 // 4)"
   ]
  },
  {
   "cell_type": "code",
   "execution_count": 18,
   "id": "9d36350e",
   "metadata": {},
   "outputs": [
    {
     "name": "stdout",
     "output_type": "stream",
     "text": [
      "-5\n"
     ]
    }
   ],
   "source": [
    "print(-18 // 4)"
   ]
  },
  {
   "cell_type": "markdown",
   "id": "830fca5d",
   "metadata": {},
   "source": [
    "9. What is the output of the following Python code? \n",
    "x = 10  \n",
    "y = 50  \n",
    "if x ** 2 > 100 and y < 100:  \n",
    "print(x, y) "
   ]
  },
  {
   "cell_type": "code",
   "execution_count": 22,
   "id": "75bcc35a",
   "metadata": {},
   "outputs": [],
   "source": [
    "x = 10  \n",
    "y = 50  \n",
    "if x ** 2 > 100 and y < 100:  \n",
    " print(x, y)"
   ]
  },
  {
   "cell_type": "markdown",
   "id": "dcdec4c1",
   "metadata": {},
   "source": [
    "10.  What is the output of the following code? \n",
    "x = 100  \n",
    "y = 50  \n",
    "print(x and y) "
   ]
  },
  {
   "cell_type": "code",
   "execution_count": 23,
   "id": "6aad4e18",
   "metadata": {},
   "outputs": [
    {
     "name": "stdout",
     "output_type": "stream",
     "text": [
      "50\n"
     ]
    }
   ],
   "source": [
    "x = 100  \n",
    "y = 50  \n",
    "print(x and y)"
   ]
  },
  {
   "cell_type": "markdown",
   "id": "dfe4d6e3",
   "metadata": {},
   "source": [
    "11.  In Python 3, what is the output of type(range(5)). (What data type it will \n",
    "return). "
   ]
  },
  {
   "cell_type": "code",
   "execution_count": 25,
   "id": "904b6a4a",
   "metadata": {},
   "outputs": [
    {
     "data": {
      "text/plain": [
       "range"
      ]
     },
     "execution_count": 25,
     "metadata": {},
     "output_type": "execute_result"
    }
   ],
   "source": [
    "type(range(5))"
   ]
  },
  {
   "cell_type": "markdown",
   "id": "d6d4fc6d",
   "metadata": {},
   "source": [
    "12.  What is the data type of print(type(10))"
   ]
  },
  {
   "cell_type": "code",
   "execution_count": 24,
   "id": "6d9a6241",
   "metadata": {},
   "outputs": [
    {
     "name": "stdout",
     "output_type": "stream",
     "text": [
      "<class 'int'>\n"
     ]
    }
   ],
   "source": [
    "print(type(10)) "
   ]
  }
 ],
 "metadata": {
  "kernelspec": {
   "display_name": "Python 3",
   "language": "python",
   "name": "python3"
  },
  "language_info": {
   "codemirror_mode": {
    "name": "ipython",
    "version": 3
   },
   "file_extension": ".py",
   "mimetype": "text/x-python",
   "name": "python",
   "nbconvert_exporter": "python",
   "pygments_lexer": "ipython3",
   "version": "3.13.4"
  }
 },
 "nbformat": 4,
 "nbformat_minor": 5
}
